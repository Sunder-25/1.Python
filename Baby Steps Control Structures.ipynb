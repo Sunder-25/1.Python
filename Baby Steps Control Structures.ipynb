{
 "cells": [
  {
   "cell_type": "code",
   "execution_count": 1,
   "id": "5cdeebfd-728d-4a03-965f-8e02c097c726",
   "metadata": {},
   "outputs": [
    {
     "name": "stdout",
     "output_type": "stream",
     "text": [
      "Welcome to Assignment-1\n"
     ]
    }
   ],
   "source": [
    "print(\"Welcome to Assignment-1\")"
   ]
  },
  {
   "cell_type": "code",
   "execution_count": null,
   "id": "fd4d84f4-2cb3-4974-b570-128ad099cb55",
   "metadata": {},
   "outputs": [],
   "source": []
  },
  {
   "cell_type": "code",
   "execution_count": 10,
   "id": "985060a7-9a0f-45a9-92b7-a7679da74ef6",
   "metadata": {},
   "outputs": [
    {
     "name": "stdout",
     "output_type": "stream",
     "text": [
      "Num1= 10\n",
      "Num2= 30\n",
      "Add= 40\n"
     ]
    }
   ],
   "source": [
    "Num1 = 10\n",
    "Num2 = 30\n",
    "Add = Num1 + Num2\n",
    "print(\"Num1=\", Num1)\n",
    "print(\"Num2=\", Num2)\n",
    "print(\"Add=\", Add)"
   ]
  },
  {
   "cell_type": "code",
   "execution_count": null,
   "id": "4f72f925-a741-448d-8205-bdae05904fb9",
   "metadata": {},
   "outputs": [],
   "source": [
    "#Body Mass Index"
   ]
  },
  {
   "cell_type": "code",
   "execution_count": 24,
   "id": "ebd95557-a902-45f5-8391-59ffefd9f3b1",
   "metadata": {},
   "outputs": [
    {
     "name": "stdin",
     "output_type": "stream",
     "text": [
      "Enter the BMI Index: 34\n"
     ]
    },
    {
     "name": "stdout",
     "output_type": "stream",
     "text": [
      "Very Owerweight\n"
     ]
    }
   ],
   "source": [
    "BMI=float(input(\"Enter the BMI Index:\"))\n",
    "if(BMI <18.5):\n",
    "    print(\"Underweight\")\n",
    "elif(BMI<=24.9):\n",
    "    print(\"Normal range\")\n",
    "elif(BMI <=29.9):\n",
    "    print(\"Overweight\")\n",
    "elif(BMI <=30):\n",
    "    print(\"Obese\")\n",
    "elif(BMI <=34.9):\n",
    "    print(\"Very Owerweight\")\n",
    "elif(BMI <=39.9):\n",
    "    print(\"Obese class 2\")\n",
    "else:\n",
    "    print(\"Obese Class 3\")"
   ]
  },
  {
   "cell_type": "code",
   "execution_count": null,
   "id": "39d89011-fbee-4a00-98f9-356c785afaf1",
   "metadata": {},
   "outputs": [],
   "source": []
  }
 ],
 "metadata": {
  "kernelspec": {
   "display_name": "Python 3 (ipykernel)",
   "language": "python",
   "name": "python3"
  },
  "language_info": {
   "codemirror_mode": {
    "name": "ipython",
    "version": 3
   },
   "file_extension": ".py",
   "mimetype": "text/x-python",
   "name": "python",
   "nbconvert_exporter": "python",
   "pygments_lexer": "ipython3",
   "version": "3.13.5"
  }
 },
 "nbformat": 4,
 "nbformat_minor": 5
}
