{
 "cells": [
  {
   "cell_type": "code",
   "execution_count": 5,
   "id": "7600594a-8f5f-4656-91aa-316485c6767b",
   "metadata": {},
   "outputs": [],
   "source": [
    "class SubfieldsInAI():\n",
    "    def subfields():\n",
    "        #lists=[\"Machine Learning\", \"Neural Networks\", \"Vision\", \"Robotics\", \"Speech Processing\", \"Natural Language Processing\"]\n",
    "        print(\"Sub-fields in AI are:\")\n",
    "        for subfield in lists:\n",
    "            print(subfield)"
   ]
  },
  {
   "cell_type": "code",
   "execution_count": 8,
   "id": "904e06eb-c49c-400c-8ef1-8115fa0f55f3",
   "metadata": {},
   "outputs": [
    {
     "name": "stdout",
     "output_type": "stream",
     "text": [
      "Sub-fields in AI are:\n",
      "Machine Learning\n",
      "Neural Networks\n",
      "Vision\n",
      "Robotics\n",
      "Speech Processing\n",
      "Natural Language Processing\n"
     ]
    }
   ],
   "source": [
    "lists=[\"Machine Learning\", \"Neural Networks\", \"Vision\", \"Robotics\", \"Speech Processing\", \"Natural Language Processing\"]\n",
    "SubfieldsInAI.subfields()\n"
   ]
  },
  {
   "cell_type": "code",
   "execution_count": 7,
   "id": "bfa4dcfa-42bc-4260-b442-97689a7c0a25",
   "metadata": {},
   "outputs": [],
   "source": [
    "def OddEven():\n",
    "    num = int(input(\"Enter the number:\"))\n",
    "    if((num%2)==1):\n",
    "        print(\"Odd Number\")\n",
    "        message = \"Odd Number\"\n",
    "    else:\n",
    "        print(\"Even Number\")\n",
    "        message = \"Even Number\"\n",
    "    return message"
   ]
  },
  {
   "cell_type": "code",
   "execution_count": 9,
   "id": "890cf683-3d55-4118-8476-c65426dc831a",
   "metadata": {},
   "outputs": [
    {
     "name": "stdin",
     "output_type": "stream",
     "text": [
      "Enter the number: 52452\n"
     ]
    },
    {
     "name": "stdout",
     "output_type": "stream",
     "text": [
      "Even Number\n"
     ]
    }
   ],
   "source": [
    "message=OddEven()"
   ]
  },
  {
   "cell_type": "code",
   "execution_count": 24,
   "id": "8bf26858-ce32-48db-ab92-1c6e7032fd73",
   "metadata": {},
   "outputs": [],
   "source": [
    "class OddEven():\n",
    "    def OddEven():\n",
    "        num = int(input(\"Enter the number:\"))\n",
    "        if((num%2)==1):\n",
    "            print(num,\"is Odd Number\")\n",
    "        else:\n",
    "            print(num,\"is Even Number\")"
   ]
  },
  {
   "cell_type": "code",
   "execution_count": 25,
   "id": "52e2513f-3256-4b8b-8cd1-bc08c7681679",
   "metadata": {},
   "outputs": [
    {
     "name": "stdin",
     "output_type": "stream",
     "text": [
      "Enter the number: 52452\n"
     ]
    },
    {
     "name": "stdout",
     "output_type": "stream",
     "text": [
      "52452 is Even Number\n"
     ]
    }
   ],
   "source": [
    "OddEven.OddEven()"
   ]
  },
  {
   "cell_type": "code",
   "execution_count": null,
   "id": "ef698d87-9bcd-4c86-ae53-7fd3b439d393",
   "metadata": {},
   "outputs": [],
   "source": [
    "#Create a function yhat tells elegibility of marriage for male and female according to their age limit like 21 for male and 18 for female"
   ]
  },
  {
   "cell_type": "code",
   "execution_count": 1,
   "id": "52ff888f-d23b-404f-9a12-b4158e1fa156",
   "metadata": {},
   "outputs": [],
   "source": [
    "class ElegibilityForMarriage():\n",
    "    \n",
    "    def Eligible():\n",
    "        #request user input\n",
    "        gender =input(\"Your gender (Male/Female): \")\n",
    "        age=int(input(\"Your age: \"))\n",
    "        \n",
    "        #print user details\n",
    "        print(\"Your Gender: \", gender)\n",
    "        print(\"Your Age: \", age)\n",
    "    \n",
    "        #check eligibility\n",
    "        if (gender == \"Male\" and age>=21):\n",
    "            print(\"ELIGIBLE\")\n",
    "        elif (gender == \"Female\" and age>=18):\n",
    "            print(\"ELIGIBLE\")\n",
    "        else :\n",
    "            print(\"NOT ELIGIBLE\")"
   ]
  },
  {
   "cell_type": "code",
   "execution_count": 2,
   "id": "2f0eefe0-09c2-449b-afbc-0a83f3d94b5b",
   "metadata": {},
   "outputs": [
    {
     "name": "stdin",
     "output_type": "stream",
     "text": [
      "Your gender (Male/Female):  Male\n",
      "Your age:  20\n"
     ]
    },
    {
     "name": "stdout",
     "output_type": "stream",
     "text": [
      "Your Gender:  Male\n",
      "Your Age:  20\n",
      "NOT ELIGIBLE\n"
     ]
    }
   ],
   "source": [
    "ElegibilityForMarriage.Eligible()"
   ]
  },
  {
   "cell_type": "code",
   "execution_count": 3,
   "id": "c2813280-a5e3-473b-9d5b-e6314f3e3a32",
   "metadata": {},
   "outputs": [],
   "source": [
    "# Calculate the percentage of your 10th mark"
   ]
  },
  {
   "cell_type": "code",
   "execution_count": 8,
   "id": "eaa7142f-4647-48b2-a9c2-5faf6ce9a12e",
   "metadata": {},
   "outputs": [],
   "source": [
    "class FindPercent():\n",
    "    \n",
    "    def percentage ():\n",
    "        #percentage of each subject\n",
    "        subject1 = 98\n",
    "        subject2 = 87\n",
    "        subject3 = 95\n",
    "        subject4 = 95\n",
    "        subject5 = 93\n",
    "\n",
    "        #calculate total\n",
    "        total = subject1 + subject2 + subject3 + subject4 + subject5\n",
    "\n",
    "        #calculate percentage\n",
    "        percentage = (total/500) * 100 #since max marks = 500\n",
    "\n",
    "        #print results\n",
    "        print(\"Subject1=\", subject1)\n",
    "        print(\"Subject2=\", subject2)\n",
    "        print(\"Subject3=\", subject3)\n",
    "        print(\"Subject4=\", subject4)\n",
    "        print(\"Subject5=\", subject5)\n",
    "        print(\"Total :\", total)\n",
    "        print(\"Percentage :\", percentage)"
   ]
  },
  {
   "cell_type": "code",
   "execution_count": 9,
   "id": "cbbe8a0e-4a1a-4955-80be-b1878ba4a4c4",
   "metadata": {},
   "outputs": [
    {
     "name": "stdout",
     "output_type": "stream",
     "text": [
      "Subject1= 98\n",
      "Subject2= 87\n",
      "Subject3= 95\n",
      "Subject4= 95\n",
      "Subject5= 93\n",
      "Total : 468\n",
      "Percentage : 93.60000000000001\n"
     ]
    }
   ],
   "source": [
    "FindPercent.percentage ()"
   ]
  },
  {
   "cell_type": "code",
   "execution_count": 10,
   "id": "33137aa0-4eb6-47bb-a7c0-e5b03ca0849a",
   "metadata": {},
   "outputs": [],
   "source": [
    "#print area and perimeter of triangle using class and functions"
   ]
  },
  {
   "cell_type": "code",
   "execution_count": 16,
   "id": "32796d2d-87d4-47a8-a495-5eafc3d33e5f",
   "metadata": {},
   "outputs": [],
   "source": [
    "class triangle ():\n",
    "\n",
    "    def triangle():\n",
    "    #triangle details\n",
    "        Height = 32\n",
    "        Breadth = 34\n",
    "        AreaFormula = \"(Height*Breadth)/2\"\n",
    "        AreaOfTriangle = 544.0\n",
    "        Height1 = 2\n",
    "        Height2 = 4\n",
    "        Breadth = 4\n",
    "        PerimeterFormula = \"Height1+Height2+Breadth\"\n",
    "        PerimeterOfTriangle = 10\n",
    "\n",
    "        #print output\n",
    "        print(\"Height:\", Height)\n",
    "        print(\"Breadth:\", Breadth)\n",
    "        print(\"Area formula:\", AreaFormula)\n",
    "        print(\"Area of triangle:\", AreaOfTriangle)\n",
    "        print(\"Height1:\", Height1)\n",
    "        print(\"Height2:\", Height2)\n",
    "        print(\"Breadth:\", Breadth)\n",
    "        print(\"Perimeter formula:\", PerimeterFormula)\n",
    "        print(\"Perimeter of Triangle:\", PerimeterOfTriangle)\n",
    "        "
   ]
  },
  {
   "cell_type": "code",
   "execution_count": 17,
   "id": "8a2805a3-42b8-4cbf-bb16-9d73b5ebe308",
   "metadata": {},
   "outputs": [
    {
     "name": "stdout",
     "output_type": "stream",
     "text": [
      "Height: 32\n",
      "Breadth: 4\n",
      "Area formula: (Height*Breadth)/2\n",
      "Area of triangle: 544.0\n",
      "Height1: 2\n",
      "Height2: 4\n",
      "Breadth: 4\n",
      "Perimeter formula: Height1+Height2+Breadth\n",
      "Perimeter of Triangle: 10\n"
     ]
    }
   ],
   "source": [
    "triangle.triangle()"
   ]
  },
  {
   "cell_type": "code",
   "execution_count": null,
   "id": "25b9d6da-bf1c-4e7c-a63c-a976517cad97",
   "metadata": {},
   "outputs": [],
   "source": []
  }
 ],
 "metadata": {
  "kernelspec": {
   "display_name": "Python 3 (ipykernel)",
   "language": "python",
   "name": "python3"
  },
  "language_info": {
   "codemirror_mode": {
    "name": "ipython",
    "version": 3
   },
   "file_extension": ".py",
   "mimetype": "text/x-python",
   "name": "python",
   "nbconvert_exporter": "python",
   "pygments_lexer": "ipython3",
   "version": "3.13.5"
  }
 },
 "nbformat": 4,
 "nbformat_minor": 5
}
