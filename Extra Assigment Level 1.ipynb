{
 "cells": [
  {
   "cell_type": "code",
   "execution_count": 1,
   "id": "040ce9d3-8f26-4041-ac64-d31710f5d149",
   "metadata": {},
   "outputs": [
    {
     "name": "stdout",
     "output_type": "stream",
     "text": [
      "HOPE AI\n"
     ]
    }
   ],
   "source": [
    "print(\"HOPE AI\")"
   ]
  },
  {
   "cell_type": "code",
   "execution_count": 7,
   "id": "fd29c6ec-c4df-45c5-99cf-d2704be52661",
   "metadata": {},
   "outputs": [
    {
     "name": "stdin",
     "output_type": "stream",
     "text": [
      "Enter your institute name? :  HOPE AI\n"
     ]
    }
   ],
   "source": [
    "InstituteName = input(\"Enter your institute name? : \")"
   ]
  },
  {
   "cell_type": "code",
   "execution_count": 14,
   "id": "bbfd424d-3931-437e-b951-38263bafe956",
   "metadata": {},
   "outputs": [
    {
     "name": "stdin",
     "output_type": "stream",
     "text": [
      "Enter your name: Raj\n",
      "Enter your age:  15\n",
      "Enter your school name:  Guru school\n",
      "Enter your degree:  B.E CSE\n"
     ]
    }
   ],
   "source": [
    "Name = input(\"Enter your name:\")\n",
    "Age = int(input(\"Enter your age: \"))\n",
    "SchoolName = input(\"Enter your school name: \")\n",
    "Degree = input(\"Enter your degree: \")"
   ]
  },
  {
   "cell_type": "code",
   "execution_count": 18,
   "id": "4374b84a-df57-48a3-8356-c250b1f3c6c4",
   "metadata": {},
   "outputs": [
    {
     "name": "stdout",
     "output_type": "stream",
     "text": [
      "a = 43\n",
      "b = 34\n",
      "add = 77\n"
     ]
    }
   ],
   "source": [
    "a = 43\n",
    "b = 34\n",
    "add = a+b\n",
    "print(\"a =\", a)\n",
    "print(\"b =\", b)\n",
    "print(\"add =\", add)"
   ]
  },
  {
   "cell_type": "code",
   "execution_count": 19,
   "id": "1a34af51-49e0-46de-8b90-7d1337cd1fdc",
   "metadata": {},
   "outputs": [
    {
     "name": "stdout",
     "output_type": "stream",
     "text": [
      "a = 43\n",
      "b = 34\n",
      "Sub = 9\n"
     ]
    }
   ],
   "source": [
    "a = 43\n",
    "b = 34\n",
    "Sub = a-b\n",
    "print(\"a =\", a)\n",
    "print(\"b =\", b)\n",
    "print(\"Sub =\", Sub)"
   ]
  },
  {
   "cell_type": "code",
   "execution_count": 21,
   "id": "13a7b01e-35c3-44c5-b7a2-50ab9ba782da",
   "metadata": {},
   "outputs": [
    {
     "name": "stdout",
     "output_type": "stream",
     "text": [
      "a = 63\n",
      "b = 97\n",
      "Mul = 6111\n"
     ]
    }
   ],
   "source": [
    "a = 63\n",
    "b = 97\n",
    "Mul = a*b\n",
    "print(\"a =\", a)\n",
    "print(\"b =\", b)\n",
    "print(\"Mul =\", Mul)"
   ]
  },
  {
   "cell_type": "code",
   "execution_count": 22,
   "id": "be55dc29-c0d4-4d55-8018-04d2d57ae1b6",
   "metadata": {},
   "outputs": [
    {
     "name": "stdout",
     "output_type": "stream",
     "text": [
      "a = 76\n",
      "b = 31\n",
      "Float Div = 2.4516129032258065\n"
     ]
    }
   ],
   "source": [
    "a = 76\n",
    "b = 31\n",
    "Div = a/b\n",
    "print(\"a =\", a)\n",
    "print(\"b =\", b)\n",
    "print(\"Float Div =\", Div)"
   ]
  },
  {
   "cell_type": "code",
   "execution_count": 23,
   "id": "55d1874c-df3b-482e-9f2d-c66e323c132f",
   "metadata": {},
   "outputs": [
    {
     "name": "stdout",
     "output_type": "stream",
     "text": [
      "a = 76\n",
      "b = 31\n",
      "Floor Div = 2\n"
     ]
    }
   ],
   "source": [
    "a = 76\n",
    "b = 31\n",
    "Div = a//b\n",
    "print(\"a =\", a)\n",
    "print(\"b =\", b)\n",
    "print(\"Floor Div =\", Div)"
   ]
  },
  {
   "cell_type": "code",
   "execution_count": 24,
   "id": "98dd93cd-c93f-4a0e-91b8-e7113d9de99f",
   "metadata": {},
   "outputs": [
    {
     "name": "stdout",
     "output_type": "stream",
     "text": [
      "a = 76\n",
      "b = 31\n",
      "Modulo = 14\n"
     ]
    }
   ],
   "source": [
    "a = 76\n",
    "b = 31\n",
    "Modulo = a%b\n",
    "print(\"a =\", a)\n",
    "print(\"b =\", b)\n",
    "print(\"Modulo =\", Modulo)"
   ]
  },
  {
   "cell_type": "code",
   "execution_count": 25,
   "id": "211a0c0c-b42b-4d72-932e-27ee88bb29d7",
   "metadata": {},
   "outputs": [
    {
     "name": "stdout",
     "output_type": "stream",
     "text": [
      "a = 4\n",
      "b = 4\n",
      "Power = 256\n"
     ]
    }
   ],
   "source": [
    "a = 4\n",
    "b = 4\n",
    "Power = a**b\n",
    "print(\"a =\", a)\n",
    "print(\"b =\", b)\n",
    "print(\"Power =\", Power)"
   ]
  },
  {
   "cell_type": "code",
   "execution_count": null,
   "id": "96f86d1a-f0fa-419b-9a24-4afd9ce55334",
   "metadata": {},
   "outputs": [],
   "source": []
  }
 ],
 "metadata": {
  "kernelspec": {
   "display_name": "Python 3 (ipykernel)",
   "language": "python",
   "name": "python3"
  },
  "language_info": {
   "codemirror_mode": {
    "name": "ipython",
    "version": 3
   },
   "file_extension": ".py",
   "mimetype": "text/x-python",
   "name": "python",
   "nbconvert_exporter": "python",
   "pygments_lexer": "ipython3",
   "version": "3.13.5"
  }
 },
 "nbformat": 4,
 "nbformat_minor": 5
}
